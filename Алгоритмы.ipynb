{
 "cells": [
  {
   "cell_type": "markdown",
   "id": "2fa7c06c",
   "metadata": {},
   "source": [
    "# Палиндром"
   ]
  },
  {
   "cell_type": "markdown",
   "id": "0eebf49a",
   "metadata": {},
   "source": [
    "Палиндромы — это слова или фразы, которые можно прочитать одинаково и спереди, и сзади, например, «анна»."
   ]
  },
  {
   "cell_type": "code",
   "execution_count": 32,
   "id": "a43875f3",
   "metadata": {},
   "outputs": [],
   "source": [
    "word1 = 'banana'\n",
    "word2 = 'bananab'"
   ]
  },
  {
   "cell_type": "markdown",
   "id": "7dd2c8d4",
   "metadata": {},
   "source": [
    "### 1 способ: более простой, но менее эффективный по времени"
   ]
  },
  {
   "cell_type": "code",
   "execution_count": 6,
   "id": "34581244",
   "metadata": {},
   "outputs": [],
   "source": [
    "def is_palindrome(word):\n",
    "    return word == word[::-1]"
   ]
  },
  {
   "cell_type": "code",
   "execution_count": 11,
   "id": "8b27de36",
   "metadata": {},
   "outputs": [
    {
     "name": "stdout",
     "output_type": "stream",
     "text": [
      "False\n",
      "True\n"
     ]
    }
   ],
   "source": [
    "print(is_palindrome(word1))\n",
    "print(is_palindrome(word2))"
   ]
  },
  {
   "cell_type": "code",
   "execution_count": 20,
   "id": "ba32b2fd",
   "metadata": {},
   "outputs": [],
   "source": [
    "def find_palindromes(word):\n",
    "    palindromes = []\n",
    "    n = len(word)\n",
    "    for i in range(n-1):\n",
    "        for j in range(i+1, n):\n",
    "            if is_palindrome(word[i:j+1]):\n",
    "                palindromes.append(word[i:j+1])\n",
    "    return palindromes"
   ]
  },
  {
   "cell_type": "code",
   "execution_count": 22,
   "id": "39ccbb1f",
   "metadata": {},
   "outputs": [
    {
     "name": "stdout",
     "output_type": "stream",
     "text": [
      "['ana', 'anana', 'nan', 'ana']\n",
      "['bananab', 'ana', 'anana', 'nan', 'ana']\n"
     ]
    }
   ],
   "source": [
    "print(find_palindromes(word1))\n",
    "print(find_palindromes(word2))"
   ]
  },
  {
   "cell_type": "markdown",
   "id": "08c43653",
   "metadata": {},
   "source": [
    "### 2 способ: более эффективный по времени - расширение от центра"
   ]
  },
  {
   "cell_type": "code",
   "execution_count": 31,
   "id": "d4cf4b35",
   "metadata": {},
   "outputs": [],
   "source": [
    "def find_palindromes_from_center(word, left_item, right_item):\n",
    "    palindromes = []\n",
    "    while left_item >= 0 and right_item < len(word) and word[left_item] == word[right_item]:\n",
    "        palindromes.append(word[left_item: right_item+1])\n",
    "        left_item -= 1\n",
    "        right_item += 1\n",
    "    return palindromes"
   ]
  },
  {
   "cell_type": "code",
   "execution_count": 39,
   "id": "af27321b",
   "metadata": {},
   "outputs": [],
   "source": [
    "def find_palinromes_method_center(word):\n",
    "    n = len(word)\n",
    "    palindromes = []\n",
    "    for i in range(n-1):\n",
    "        palindromes += find_palindromes_from_center(word, i-1, i+1)\n",
    "        palindromes += find_palindromes_from_center(word, i, i+1)\n",
    "    return palindromes"
   ]
  },
  {
   "cell_type": "code",
   "execution_count": 40,
   "id": "892e68cf",
   "metadata": {},
   "outputs": [
    {
     "name": "stdout",
     "output_type": "stream",
     "text": [
      "['ana', 'nan', 'anana', 'ana']\n",
      "['ana', 'nan', 'anana', 'bananab', 'ana']\n"
     ]
    }
   ],
   "source": [
    "print(find_palinromes_method_center(word1))\n",
    "print(find_palinromes_method_center(word2))"
   ]
  },
  {
   "cell_type": "code",
   "execution_count": null,
   "id": "436e639e",
   "metadata": {},
   "outputs": [],
   "source": []
  }
 ],
 "metadata": {
  "kernelspec": {
   "display_name": "Python 3 (ipykernel)",
   "language": "python",
   "name": "python3"
  },
  "language_info": {
   "codemirror_mode": {
    "name": "ipython",
    "version": 3
   },
   "file_extension": ".py",
   "mimetype": "text/x-python",
   "name": "python",
   "nbconvert_exporter": "python",
   "pygments_lexer": "ipython3",
   "version": "3.9.7"
  }
 },
 "nbformat": 4,
 "nbformat_minor": 5
}
